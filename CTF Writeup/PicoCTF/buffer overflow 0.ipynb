{
 "cells": [
  {
   "cell_type": "markdown",
   "metadata": {},
   "source": [
    "The code is accepting input with 100 length, but in vuln function can only store 16 characters and calling strcpy.\n",
    "If you input 1111111111111111%x%x%x%x, it will output the flag.\n",
    "\n",
    "![vulerable code](Image/buffer%20overflow%200.png)\n",
    "![the flag](Image/buffer%20overflow%200%20flag.png)\n"
   ]
  }
 ],
 "metadata": {
  "kernelspec": {
   "display_name": "Python 3.10.5 64-bit",
   "language": "python",
   "name": "python3"
  },
  "language_info": {
   "name": "python",
   "version": "3.10.5"
  },
  "orig_nbformat": 4,
  "vscode": {
   "interpreter": {
    "hash": "ee78a3b3a05f8313430908c8b65748877975fa955d039643c67469379c7c2248"
   }
  }
 },
 "nbformat": 4,
 "nbformat_minor": 2
}
