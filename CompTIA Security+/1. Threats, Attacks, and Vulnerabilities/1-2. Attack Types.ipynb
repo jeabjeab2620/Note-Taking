{
 "cells": [
  {
   "cell_type": "code",
   "execution_count": null,
   "metadata": {},
   "outputs": [],
   "source": []
  }
 ],
 "metadata": {
  "kernelspec": {
   "display_name": "Python 3.10.5 64-bit",
   "language": "python",
   "name": "python3"
  },
  "language_info": {
   "name": "python",
   "version": "3.10.5"
  },
  "orig_nbformat": 4,
  "vscode": {
   "interpreter": {
    "hash": "ee78a3b3a05f8313430908c8b65748877975fa955d039643c67469379c7c2248"
   }
  }
 },
 "nbformat": 4,
 "nbformat_minor": 2
}
