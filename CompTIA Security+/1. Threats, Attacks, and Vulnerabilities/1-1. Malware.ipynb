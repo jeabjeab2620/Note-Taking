{
 "cells": [
  {
   "cell_type": "markdown",
   "id": "8179fbe9",
   "metadata": {},
   "source": [
    "## 1. Overview of Malware\n",
    "- Malware is a malicious software that can \n",
    "> 1. Gather information (Key Logger)\n",
    "> 2. Participate in a group (Controlled over network eg. DDOS)\n",
    "> 3. Show advertisement on compuer\n",
    "> 4. Viruses and worms (Encrypt Data or destroy the computer)\n",
    "\n",
    "- Types of Malware\n",
    "> - Viruses\n",
    "> - Crypto-malware\n",
    "> - Ransomware\n",
    "> - Worms\n",
    "> - Trojan Horse\n",
    "> - Rootkit\n",
    "> - Keylogger\n",
    "> - Adware/Spyware\n",
    "\n",
    "- How Malware is installed\n",
    "> 1. Worm takes advantage of a vulnerability to install itself to the computer which includes backdoor\n",
    "> 2. Email links\n",
    "> 3. Web page pop-up\n",
    "> 4. Drive-by download (downloaded automatically when you visit website)\n",
    "> 5. Computer is not updated (contains known vulnerabilities)"
   ]
  },
  {
   "cell_type": "markdown",
   "id": "b10561bd",
   "metadata": {},
   "source": [
    "## 2. Viruses and Worms\n",
    "- Virus is a malware\n",
    "> 1. Needs the user to execute a program\n",
    "> 2. That can reproduce itself\n",
    "> 3. That reproduces through the file system or network\n",
    "> 4. That may or may not cause problems (some destroys computer, some just gather information)\n",
    "\n",
    "- Types of Virus\n",
    "> - Program viruses: It's a part of the application\n",
    "> - Boot secor virsues: It's inside the boot sector of the drive\n",
    "> - Script viruses: operating system and browser-based viruses (eg. PowerShell script or JavaScript)\n",
    "> - Macro viruses: associated with spreadsheet or word processing applications\n",
    "\n",
    "- Worm is a malware that\n",
    "> 1. is standalone software\n",
    "> 2. uses network as a transmission medium\n",
    "> 3. self-propagates and spreads quickly through the network\n",
    "> 4. can take over many different systems very quickly\n",
    "> 5. eg) WannaCry Worm using [Eternal Blue](https://www.youtube.com/watch?v=_yOkfS21hbw)\n",
    "\n",
    "- Worm can be mitigated by Firewalls and IDS/IPS through filtering out before reaching critical systems\n",
    "\n",
    "- The way of Anti-virus works\n",
    "> 1. The Anti-virus recognises the signature of the program when it executes\n",
    "> 2. If the signature is in the database, Anti-virus will stop the execution"
   ]
  },
  {
   "cell_type": "markdown",
   "id": "ab1d2c2e",
   "metadata": {},
   "source": [
    "## 3. Ransomware and Crypto-Malware\n",
    "- Ransom is a malware that \n",
    "> 1. Denies access to computer system or data until a ransom is paid\n",
    "> 2. Can spread through a phishing mail or infected website\n",
    "\n",
    "\n",
    "- Crypto-malware is malware that encrypts programs and files on the computer in order to extort money from the user\n",
    "\n",
    "- In contrast, crypto-malware encrypts everything while ransomware just locks the computer which relying more on social engineering\n",
    "\n",
    "- Protecting against ransomware\n",
    "> 1. Always have offline backup\n",
    "> 2. Keep your system up to date\n",
    "> 3. Keep anti-virus signatures up to date\n",
    "> 4. Keep everything up to date"
   ]
  },
  {
   "cell_type": "markdown",
   "id": "2dd9731b",
   "metadata": {},
   "source": [
    "## 4. Trojan Horse and RATs\n",
    "- Trojan horse is a malware that\n",
    "> 1. Pretends to be something else so it can conquer the system\n",
    "> 2. Aims to open a gate for other programs such as backdoor\n",
    "\n",
    "\n",
    "- Old linux kernel included a backdoor officially by an accident\n",
    "\n",
    "\n",
    "- Remote Access Trojans (RATs) is a malware that\n",
    "> 1. Allows third-party to gain non-authorised access to the computer\n",
    "> 2. Hacker can simply cnnect with the client software\n",
    "> 3. Control a device (key logging, screen recording, copy files, or embed more malware)\n",
    "> 4. eg) [DarkComet RAT](https://www.darkcomet-rat.com/)\n",
    "\n",
    "\n",
    "- Protecting against Trojans and RATs\n",
    "> 1. Don't run unknown softwares\n",
    "> 2. Keep AV signatures up to date\n",
    "> 3. Always have a latest backup to recover"
   ]
  },
  {
   "cell_type": "markdown",
   "id": "31ed0982",
   "metadata": {},
   "source": [
    "## 5. Rootkits\n",
    "- Rootkits is originated from \"root\" in linux\n",
    "\n",
    "\n",
    "- Rootkit is a malware that\n",
    "> 1. modifies the core system files (or kernel)\n",
    "> 2. can be invisible by OS or AV as it is part of operating system\n",
    "\n",
    "\n",
    "- History of Rootkit\n",
    "> 1. Zeus/Zbot malware was a famouse for cleaning out bank accounts\n",
    "> 2. Then, Zeus/Zbot became easy to remove\n",
    "> 3. In consequence, the hacker combined the malware with the rootkit called Necurs, which is a kernel-level driver\n",
    "> 4. Even if ou see Zbot is running, you cannot delete it as your access will be denied.\n",
    "\n",
    "\n",
    "- Protecting against Rootkits\n",
    "> 1. Look for unusuals by Anti-malware scans\n",
    "> 2. Use rootkit remover when infected\n",
    "> 3. Secure boot with [UEFI](https://www.techtarget.com/whatis/definition/Unified-Extensible-Firmware-Interface-UEFI#:~:text=UEFI%20functions%20via%20special%20firmware,them%20over%20to%20the%20OS.)"
   ]
  },
  {
   "cell_type": "markdown",
   "id": "d6175465",
   "metadata": {},
   "source": [
    "## 6. Keylogger\n",
    "- Keylogger is a malware that\n",
    "> 1. Saves all of the inputs and sends to the hahcker\n",
    "> 2. Circumvents encryption protections as keystrokes are plain\n",
    "> 3. is usually installed with malware\n",
    "> 4. eg) [DarkComet RAT](https://www.darkcomet-rat.com/) contains keylogging feature\n",
    "\n",
    "- Protecting against Keylogger\n",
    "> 1. Use AV/Anti-malware and keep signatures updated\n",
    "> 2. Block unauthorised communication by managing firewallll rues and monitoring\n",
    "> 3. Run keylogging scanner for checking keylogging activities"
   ]
  }
 ],
 "metadata": {
  "kernelspec": {
   "display_name": "Python 3.10.5 64-bit",
   "language": "python",
   "name": "python3"
  },
  "language_info": {
   "codemirror_mode": {
    "name": "ipython",
    "version": 3
   },
   "file_extension": ".py",
   "mimetype": "text/x-python",
   "name": "python",
   "nbconvert_exporter": "python",
   "pygments_lexer": "ipython3",
   "version": "3.10.5"
  },
  "vscode": {
   "interpreter": {
    "hash": "ee78a3b3a05f8313430908c8b65748877975fa955d039643c67469379c7c2248"
   }
  }
 },
 "nbformat": 4,
 "nbformat_minor": 5
}
