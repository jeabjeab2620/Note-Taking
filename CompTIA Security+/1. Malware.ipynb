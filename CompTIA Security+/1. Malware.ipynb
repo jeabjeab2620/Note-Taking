{
 "cells": [
  {
   "cell_type": "markdown",
   "id": "8179fbe9",
   "metadata": {},
   "source": [
    "## 1. Overview of Malware\n",
    "- Malware is a malicious software that can \n",
    "    1. Gather information (Key Logger)\n",
    "    2. Participate in a group (Controlled over network eg. DDOS)\n",
    "    3. Show advertisement on compuer\n",
    "    4. Viruses and worms (Encrypt Data or destroy the computer)\n",
    "\n",
    "\n",
    "- Types of Malware\n",
    "    1. Viruses\n",
    "    2. Crypto-malware\n",
    "    3. Ransomware\n",
    "    4. Worms\n",
    "    5. Trojan Horse\n",
    "    6. Rootkit\n",
    "    7. Keylogger\n",
    "    8. Adware/Spyware\n",
    "\n",
    "\n",
    "- How Malware is installed\n",
    "    1. Worm takes advantage of a vulnerability to install itself to the computer which includes backdoor\n",
    "    2. Email links\n",
    "    3. Web page pop-up\n",
    "    4. Drive-by download (downloaded automatically when you visit website)\n",
    "    5. Computer is not updated (contains known vulnerabilities)"
   ]
  },
  {
   "cell_type": "markdown",
   "id": "fa3ca0d7",
   "metadata": {},
   "source": [
    "## 2. Viruses and Worms\n",
    "- Virus is a malware\n",
    "    1. Needs the user to execute a program\n",
    "    2. That can reproduce itself\n",
    "    3. That reproduces through the file system or network\n",
    "    4. That may or may not cause problems (some destroys computer, some just gather information)\n",
    "\n",
    "\n",
    "- Types of Virus\n",
    "    1. Program viruses: It's a part of the application\n",
    "    2. Boot secor virsues: It's inside the boot sector of the drive\n",
    "    3. Script viruses: operating system and browser-based viruses (eg. PowerShell script or JavaScript)\n",
    "    4. Macro viruses: associated with spreadsheet or word processing applications\n",
    "\n",
    "\n",
    "- Worm is a malware that\n",
    "    1. is standalone software\n",
    "    2. uses network as a transmission medium\n",
    "    3. self-propagates and spreads quickly through the network\n",
    "    4. can take over many different systems very quickly\n",
    "\n",
    "\n",
    "- Worm can be mitigated by Firewalls and IDS/IPS through filtering out before reaching critical systems\n",
    "\n",
    "\n",
    "- The way of Anti-virus works\n",
    "    1. The Anti-virus recognises the signature of the program when it executes\n",
    "    2. If the signature is in the database, Anti-virus will stop the execution"
   ]
  }
 ],
 "metadata": {
  "kernelspec": {
   "display_name": "Python 3.10.5 64-bit",
   "language": "python",
   "name": "python3"
  },
  "language_info": {
   "codemirror_mode": {
    "name": "ipython",
    "version": 3
   },
   "file_extension": ".py",
   "mimetype": "text/x-python",
   "name": "python",
   "nbconvert_exporter": "python",
   "pygments_lexer": "ipython3",
   "version": "3.10.5"
  },
  "vscode": {
   "interpreter": {
    "hash": "ee78a3b3a05f8313430908c8b65748877975fa955d039643c67469379c7c2248"
   }
  }
 },
 "nbformat": 4,
 "nbformat_minor": 5
}
