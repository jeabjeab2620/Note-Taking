{
 "cells": [
  {
   "cell_type": "markdown",
   "id": "8179fbe9",
   "metadata": {},
   "source": [
    "## 1. Overview of Malware\n",
    "- Malware is a malicious software that can \n",
    "> - Gather information (Key Logger)\n",
    "> - Participate in a group (Controlled over network eg. DDOS)\n",
    "> - Show advertisement on compuer\n",
    "> - Viruses and worms (Encrypt Data or destroy the computer)\n",
    "\n",
    "- Types of Malware\n",
    "> - Viruses\n",
    "> - Crypto-malware\n",
    "> - Ransomware\n",
    "> - Worms\n",
    "> - Trojan Horse\n",
    "> - Rootkit\n",
    "> - Keylogger\n",
    "> - Adware/Spyware\n",
    "\n",
    "- How Malware is installed\n",
    "> - Worm takes advantage of a vulnerability to install itself to the computer which includes backdoor\n",
    "> - Email links\n",
    "> - Web page pop-up\n",
    "> - Drive-by download (downloaded automatically when you visit website)\n",
    "> - Computer is not updated (contains known vulnerabilities)"
   ]
  },
  {
   "cell_type": "markdown",
   "id": "b10561bd",
   "metadata": {},
   "source": [
    "## 2. Viruses and Worms\n",
    "- Virus is a malware\n",
    "> - Needs the user to execute a program\n",
    "> - That can reproduce itself\n",
    "> - That reproduces through the file system or network\n",
    "> - That may or may not cause problems (some destroys computer, some just gather information)\n",
    "\n",
    "- Types of Virus\n",
    "> - Program viruses: It's a part of the application\n",
    "> - Boot secor virsues: It's inside the boot sector of the drive\n",
    "> - Script viruses: operating system and browser-based viruses (eg. PowerShell script or JavaScript)\n",
    "> - Macro viruses: associated with spreadsheet or word processing applications\n",
    "\n",
    "- Worm is a malware that\n",
    "> - is standalone software\n",
    "> - uses network as a transmission medium\n",
    "> - self-propagates and spreads quickly through the network\n",
    "> - can take over many different systems very quickly\n",
    "> - eg. WannaCry Worm using [Eternal Blue](https://www.youtube.com/watch?v=_yOkfS21hbw)\n",
    "\n",
    "- Worm can be mitigated by Firewalls and IDS/IPS through filtering out before reaching critical systems\n",
    "\n",
    "- The way of Anti-virus works\n",
    "> - The Anti-virus recognises the signature of the program when it executes\n",
    "> - If the signature is in the database, Anti-virus will stop the execution"
   ]
  }
 ],
 "metadata": {
  "kernelspec": {
   "display_name": "Python 3.10.5 64-bit",
   "language": "python",
   "name": "python3"
  },
  "language_info": {
   "codemirror_mode": {
    "name": "ipython",
    "version": 3
   },
   "file_extension": ".py",
   "mimetype": "text/x-python",
   "name": "python",
   "nbconvert_exporter": "python",
   "pygments_lexer": "ipython3",
   "version": "3.10.5"
  },
  "vscode": {
   "interpreter": {
    "hash": "ee78a3b3a05f8313430908c8b65748877975fa955d039643c67469379c7c2248"
   }
  }
 },
 "nbformat": 4,
 "nbformat_minor": 5
}
