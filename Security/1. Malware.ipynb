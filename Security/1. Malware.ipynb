{
 "cells": [
  {
   "cell_type": "markdown",
   "id": "8179fbe9",
   "metadata": {},
   "source": [
    "## 1. Overview of Malware\n",
    "- Malware is a malicious software that can \n",
    "    1. Gather information (Key Logger)\n",
    "    2. Participate in a group (Controlled over network eg. DDOS)\n",
    "    3. Show advertisement on compuer\n",
    "    4. Viruses and worms (Encrypt Data or destroy the computer)\n",
    "\n",
    "\n",
    "- Types of Malware\n",
    "    1. Viruses\n",
    "    2. Crypto-malware\n",
    "    3. Ransomware\n",
    "    4. Worms\n",
    "    5. Trojan Horse\n",
    "    6. Rootkit\n",
    "    7. Keylogger\n",
    "    8. Adware/Spyware\n",
    "\n",
    "\n",
    "- How Malware is installed\n",
    "    1. Worm takes advantage of a vulnerability to install itself to the computer which includes backdoor\n",
    "    2. Email links\n",
    "    3. Web page pop-up\n",
    "    4. Drive-by download (downloaded automatically when you visit website)\n",
    "    5. Computer is not updated (contains known vulnerabilities)"
   ]
  }
 ],
 "metadata": {
  "kernelspec": {
   "display_name": "Python 3 (ipykernel)",
   "language": "python",
   "name": "python3"
  },
  "language_info": {
   "codemirror_mode": {
    "name": "ipython",
    "version": 3
   },
   "file_extension": ".py",
   "mimetype": "text/x-python",
   "name": "python",
   "nbconvert_exporter": "python",
   "pygments_lexer": "ipython3",
   "version": "3.10.5"
  }
 },
 "nbformat": 4,
 "nbformat_minor": 5
}
